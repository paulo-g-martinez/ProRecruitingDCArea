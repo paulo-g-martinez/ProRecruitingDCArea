{
 "cells": [
  {
   "cell_type": "markdown",
   "metadata": {},
   "source": [
    "# Scrape, Process, Filter table from Forbes\n",
    "https://www.forbes.com/best-professional-recruiting-firms/list/6/#header:headquarters, consulted 9/21/18, 3:27 pm, GMT - 5"
   ]
  },
  {
   "cell_type": "code",
   "execution_count": 1,
   "metadata": {},
   "outputs": [],
   "source": [
    "import pandas as pd"
   ]
  },
  {
   "cell_type": "code",
   "execution_count": 54,
   "metadata": {},
   "outputs": [
    {
     "data": {
      "text/html": [
       "<div>\n",
       "<style scoped>\n",
       "    .dataframe tbody tr th:only-of-type {\n",
       "        vertical-align: middle;\n",
       "    }\n",
       "\n",
       "    .dataframe tbody tr th {\n",
       "        vertical-align: top;\n",
       "    }\n",
       "\n",
       "    .dataframe thead th {\n",
       "        text-align: right;\n",
       "    }\n",
       "</style>\n",
       "<table border=\"1\" class=\"dataframe\">\n",
       "  <thead>\n",
       "    <tr style=\"text-align: right;\">\n",
       "      <th></th>\n",
       "      <th>Rank</th>\n",
       "      <th>Company</th>\n",
       "      <th>Website</th>\n",
       "      <th>Headquarters</th>\n",
       "    </tr>\n",
       "  </thead>\n",
       "  <tbody>\n",
       "    <tr>\n",
       "      <th>0</th>\n",
       "      <td>#162</td>\n",
       "      <td>Linium Recruiting</td>\n",
       "      <td>http://www.liniumrecruiting.com</td>\n",
       "      <td>Albany, New York</td>\n",
       "    </tr>\n",
       "    <tr>\n",
       "      <th>1</th>\n",
       "      <td>#86</td>\n",
       "      <td>Healthcare IT Leaders</td>\n",
       "      <td>http://www.healthcareitleaders.com</td>\n",
       "      <td>Alpharetta, Georgia</td>\n",
       "    </tr>\n",
       "    <tr>\n",
       "      <th>2</th>\n",
       "      <td>#121</td>\n",
       "      <td>Jackson &amp; Coker</td>\n",
       "      <td>http://www.jacksoncoker.com</td>\n",
       "      <td>Alpharetta, Georgia</td>\n",
       "    </tr>\n",
       "    <tr>\n",
       "      <th>3</th>\n",
       "      <td>#137</td>\n",
       "      <td>Bowman Williams</td>\n",
       "      <td>http://bowmanwilliams.com</td>\n",
       "      <td>Arlington, Virginia</td>\n",
       "    </tr>\n",
       "    <tr>\n",
       "      <th>4</th>\n",
       "      <td>#3</td>\n",
       "      <td>Lucas Group</td>\n",
       "      <td>http://www.lucasgroup.com</td>\n",
       "      <td>Atlanta, Georgia</td>\n",
       "    </tr>\n",
       "  </tbody>\n",
       "</table>\n",
       "</div>"
      ],
      "text/plain": [
       "   Rank                Company                             Website  \\\n",
       "0  #162      Linium Recruiting     http://www.liniumrecruiting.com   \n",
       "1   #86  Healthcare IT Leaders  http://www.healthcareitleaders.com   \n",
       "2  #121        Jackson & Coker         http://www.jacksoncoker.com   \n",
       "3  #137        Bowman Williams           http://bowmanwilliams.com   \n",
       "4    #3            Lucas Group           http://www.lucasgroup.com   \n",
       "\n",
       "          Headquarters  \n",
       "0     Albany, New York  \n",
       "1  Alpharetta, Georgia  \n",
       "2  Alpharetta, Georgia  \n",
       "3  Arlington, Virginia  \n",
       "4     Atlanta, Georgia  "
      ]
     },
     "execution_count": 54,
     "metadata": {},
     "output_type": "execute_result"
    }
   ],
   "source": [
    "df = pd.read_excel('Book1.xlsx')\n",
    "df.head()"
   ]
  },
  {
   "cell_type": "code",
   "execution_count": 66,
   "metadata": {},
   "outputs": [
    {
     "data": {
      "text/plain": [
       "'Albany'"
      ]
     },
     "execution_count": 66,
     "metadata": {},
     "output_type": "execute_result"
    }
   ],
   "source": [
    "df.Headquarters[0].split(',')[0]"
   ]
  },
  {
   "cell_type": "code",
   "execution_count": null,
   "metadata": {},
   "outputs": [],
   "source": []
  }
 ],
 "metadata": {
  "kernelspec": {
   "display_name": "Python 3",
   "language": "python",
   "name": "python3"
  },
  "language_info": {
   "codemirror_mode": {
    "name": "ipython",
    "version": 3
   },
   "file_extension": ".py",
   "mimetype": "text/x-python",
   "name": "python",
   "nbconvert_exporter": "python",
   "pygments_lexer": "ipython3",
   "version": "3.6.5"
  }
 },
 "nbformat": 4,
 "nbformat_minor": 2
}
